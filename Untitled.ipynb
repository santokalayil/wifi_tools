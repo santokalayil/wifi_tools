{
 "cells": [
  {
   "cell_type": "code",
   "execution_count": 68,
   "id": "existing-requirement",
   "metadata": {},
   "outputs": [],
   "source": [
    "import re\n",
    "import subprocess\n",
    "\n",
    "from commands import cmd_show_wlan_profiles\n",
    "\n",
    "get_output = lambda cmd_list: subprocess.run(cmd_list,capture_output=True).stdout.decode()\n",
    "\n",
    "profile_names = (re.findall(\"All User Profile     : (.*)\\r\", get_output(cmd_show_wlan_profiles.split())))"
   ]
  },
  {
   "cell_type": "code",
   "execution_count": 69,
   "id": "european-style",
   "metadata": {},
   "outputs": [],
   "source": [
    "def get_full_wify_profile(profile_name):\n",
    "    wifi_profile = {}\n",
    "    if re.search(\"Security key           : Absent\", get_output(cmd_list_1)):\n",
    "        pass\n",
    "    else:\n",
    "        wifi_profile['ssid'] = profile_name\n",
    "        cmd_list_2 = \"netsh wlan show profile\".split() + [profile_name] + [\"key=clear\"]\n",
    "        password_re = re.search(\"Key Content            : (.*)\\r\", get_output(cmd_list_2))\n",
    "        if password_re == None:\n",
    "            wifi_profile[\"password\"] = None\n",
    "        else:\n",
    "            wifi_profile[\"password\"] = password_re[1] # [0] is the whole content\n",
    "    return wifi_profile"
   ]
  },
  {
   "cell_type": "code",
   "execution_count": 71,
   "id": "widespread-external",
   "metadata": {},
   "outputs": [],
   "source": [
    "output_dict = {\"result\":[get_full_wify_profile(profile_name) for profile_name in profile_names]}"
   ]
  },
  {
   "cell_type": "code",
   "execution_count": 73,
   "id": "desirable-breath",
   "metadata": {},
   "outputs": [],
   "source": [
    "import json\n",
    "with open('result.json', 'w') as fp:\n",
    "    json.dump([get_full_wify_profile(profile_name) for profile_name in profile_names], fp)"
   ]
  },
  {
   "cell_type": "code",
   "execution_count": null,
   "id": "weird-encounter",
   "metadata": {},
   "outputs": [],
   "source": []
  }
 ],
 "metadata": {
  "kernelspec": {
   "display_name": "Python 3",
   "language": "python",
   "name": "python3"
  },
  "language_info": {
   "codemirror_mode": {
    "name": "ipython",
    "version": 3
   },
   "file_extension": ".py",
   "mimetype": "text/x-python",
   "name": "python",
   "nbconvert_exporter": "python",
   "pygments_lexer": "ipython3",
   "version": "3.9.2"
  }
 },
 "nbformat": 4,
 "nbformat_minor": 5
}
